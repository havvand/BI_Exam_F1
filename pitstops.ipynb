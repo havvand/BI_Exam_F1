{
 "cells": [
  {
   "cell_type": "markdown",
   "metadata": {},
   "source": [
    "# Pitstops and their Impact on Race Outcome\n",
    "We will be exploring pitstop data from F1 seasons 2018-2023 and looking at how they determine the outcome of the races\n",
    "\n",
    "## STEP 1 - Loading the Data & Libraries"
   ]
  },
  {
   "metadata": {},
   "cell_type": "code",
   "outputs": [],
   "execution_count": null,
   "source": [
    "# Let us start by importing the necessary libraries\n",
    "import numpy as np\n",
    "import matplotlib.pyplot as plt\n",
    "import pandas as pd\n",
    "import seaborn as sns\n",
    "import sklearn.model_selection as model_selection\n",
    "\n",
    "# Load the datasets\n",
    "races = pd.read_csv('data/races.csv')\n",
    "results = pd.read_csv('data/results.csv')\n",
    "pit_stops = pd.read_csv('data/pit_stops.csv')\n",
    "drivers = pd.read_csv('data/drivers.csv')\n",
    "\n",
    "# Display the first few rows of the dataset\n",
    "races.head(), results.head(), pit_stops.head(), drivers.head(), "
   ]
  },
  {
   "metadata": {},
   "cell_type": "markdown",
   "source": [
    "## STEP 2 - Filtering the Data\n",
    "We are only interested in data from seasons 2018-2023 so let us try to filter the dataset"
   ]
  },
  {
   "metadata": {},
   "cell_type": "code",
   "outputs": [],
   "execution_count": null,
   "source": [
    "# Filtering the dataset for years 2018 to 2023\n",
    "races_2018_2023 = races[(races['year'] >= 2018) & (races['year'] <= 2023)]\n",
    "\n",
    "# Getting the raceId for the years 2018 to 2023\n",
    "raceIds_2018_2023 = races_2018_2023['raceId'].unique()\n",
    "\n",
    "# Filtering pit_stops & results dataset with the raceIds from 2018 to 2023\n",
    "pit_stops_2018_2023 = pit_stops[pit_stops['raceId'].isin(raceIds_2018_2023)]\n",
    "results_2018_2023 = results[results['raceId'].isin(raceIds_2018_2023)]\n",
    "\n",
    "# Display the shape of the filtered datasets\n",
    "races_2018_2023.shape, pit_stops_2018_2023.shape, results_2018_2023.shape"
   ]
  },
  {
   "metadata": {},
   "cell_type": "markdown",
   "source": [
    "## STEP 3 - Cleaning the Datasets\n",
    "Now that we have the filtered data we can carry on with cleaning the data by handling missing values and outliers"
   ]
  },
  {
   "metadata": {},
   "cell_type": "code",
   "outputs": [],
   "execution_count": null,
   "source": [
    "# Check for missing values in the filtered datasets\n",
    "missing_values_races = races_2018_2023.isnull().sum()\n",
    "missing_values_results = results_2018_2023.isnull().sum()\n",
    "missing_values_pit_stops = pit_stops_2018_2023.isnull().sum()\n",
    "\n",
    "missing_values_races, missing_values_results, missing_values_pit_stops"
   ]
  },
  {
   "metadata": {},
   "cell_type": "markdown",
   "source": "There are no missing values. Let us look for outliers by checking the descriptive statistics in each dataset"
  },
  {
   "metadata": {},
   "cell_type": "code",
   "outputs": [],
   "execution_count": null,
   "source": [
    "# Descriptive statistics of the filtered datasets\n",
    "desc_stats_races = races_2018_2023.describe()\n",
    "desc_stats_results = results_2018_2023.describe()\n",
    "desc_stats_pit_stops = pit_stops_2018_2023.describe()\n",
    "\n",
    "desc_stats_races, desc_stats_results, desc_stats_pit_stops"
   ]
  }
 ],
 "metadata": {
  "kernelspec": {
   "display_name": "base",
   "language": "python",
   "name": "python3"
  },
  "language_info": {
   "codemirror_mode": {
    "name": "ipython",
    "version": 3
   },
   "file_extension": ".py",
   "mimetype": "text/x-python",
   "name": "python",
   "nbconvert_exporter": "python",
   "pygments_lexer": "ipython3",
   "version": "3.11.5"
  }
 },
 "nbformat": 4,
 "nbformat_minor": 2
}
