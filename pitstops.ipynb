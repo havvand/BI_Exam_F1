{
 "cells": [
  {
   "cell_type": "markdown",
   "metadata": {},
   "source": [
    "# Pitstops and their Impact on Race Outcome\n",
    "We will be exploring pitstop data from F1 seasons 2018-2023 and looking at how they determine the outcome of the races\n",
    "\n",
    "## STEP 1 - Loading the Data & Libraries"
   ]
  },
  {
   "cell_type": "code",
   "execution_count": 2,
   "metadata": {},
   "outputs": [
    {
     "data": {
      "text/plain": [
       "(   raceId  year  round  circuitId                   name        date  \\\n",
       " 0       1  2009      1          1  Australian Grand Prix  2009-03-29   \n",
       " 1       2  2009      2          2   Malaysian Grand Prix  2009-04-05   \n",
       " 2       3  2009      3         17     Chinese Grand Prix  2009-04-19   \n",
       " 3       4  2009      4          3     Bahrain Grand Prix  2009-04-26   \n",
       " 4       5  2009      5          4     Spanish Grand Prix  2009-05-10   \n",
       " \n",
       "        time                                                url fp1_date  \\\n",
       " 0  06:00:00  http://en.wikipedia.org/wiki/2009_Australian_G...       \\N   \n",
       " 1  09:00:00  http://en.wikipedia.org/wiki/2009_Malaysian_Gr...       \\N   \n",
       " 2  07:00:00  http://en.wikipedia.org/wiki/2009_Chinese_Gran...       \\N   \n",
       " 3  12:00:00  http://en.wikipedia.org/wiki/2009_Bahrain_Gran...       \\N   \n",
       " 4  12:00:00  http://en.wikipedia.org/wiki/2009_Spanish_Gran...       \\N   \n",
       " \n",
       "   fp1_time fp2_date fp2_time fp3_date fp3_time quali_date quali_time  \\\n",
       " 0       \\N       \\N       \\N       \\N       \\N         \\N         \\N   \n",
       " 1       \\N       \\N       \\N       \\N       \\N         \\N         \\N   \n",
       " 2       \\N       \\N       \\N       \\N       \\N         \\N         \\N   \n",
       " 3       \\N       \\N       \\N       \\N       \\N         \\N         \\N   \n",
       " 4       \\N       \\N       \\N       \\N       \\N         \\N         \\N   \n",
       " \n",
       "   sprint_date sprint_time  \n",
       " 0          \\N          \\N  \n",
       " 1          \\N          \\N  \n",
       " 2          \\N          \\N  \n",
       " 3          \\N          \\N  \n",
       " 4          \\N          \\N  ,\n",
       "    resultId  raceId  driverId  constructorId number  grid position  \\\n",
       " 0         1      18         1              1     22     1        1   \n",
       " 1         2      18         2              2      3     5        2   \n",
       " 2         3      18         3              3      7     7        3   \n",
       " 3         4      18         4              4      5    11        4   \n",
       " 4         5      18         5              1     23     3        5   \n",
       " \n",
       "   positionText  positionOrder  points  laps         time milliseconds  \\\n",
       " 0            1              1    10.0    58  1:34:50.616      5690616   \n",
       " 1            2              2     8.0    58       +5.478      5696094   \n",
       " 2            3              3     6.0    58       +8.163      5698779   \n",
       " 3            4              4     5.0    58      +17.181      5707797   \n",
       " 4            5              5     4.0    58      +18.014      5708630   \n",
       " \n",
       "   fastestLap rank fastestLapTime fastestLapSpeed  statusId  \n",
       " 0         39    2       1:27.452         218.300         1  \n",
       " 1         41    3       1:27.739         217.586         1  \n",
       " 2         41    5       1:28.090         216.719         1  \n",
       " 3         58    7       1:28.603         215.464         1  \n",
       " 4         43    1       1:27.418         218.385         1  ,\n",
       "    raceId  driverId  stop  lap      time duration  milliseconds\n",
       " 0     841       153     1    1  17:05:23   26.898         26898\n",
       " 1     841        30     1    1  17:05:52   25.021         25021\n",
       " 2     841        17     1   11  17:20:48   23.426         23426\n",
       " 3     841         4     1   12  17:22:34   23.251         23251\n",
       " 4     841        13     1   13  17:24:10   23.842         23842,\n",
       "    driverId   driverRef number code  forename     surname         dob  \\\n",
       " 0         1    hamilton     44  HAM     Lewis    Hamilton  1985-01-07   \n",
       " 1         2    heidfeld     \\N  HEI      Nick    Heidfeld  1977-05-10   \n",
       " 2         3     rosberg      6  ROS      Nico     Rosberg  1985-06-27   \n",
       " 3         4      alonso     14  ALO  Fernando      Alonso  1981-07-29   \n",
       " 4         5  kovalainen     \\N  KOV    Heikki  Kovalainen  1981-10-19   \n",
       " \n",
       "   nationality                                             url  \n",
       " 0     British     http://en.wikipedia.org/wiki/Lewis_Hamilton  \n",
       " 1      German      http://en.wikipedia.org/wiki/Nick_Heidfeld  \n",
       " 2      German       http://en.wikipedia.org/wiki/Nico_Rosberg  \n",
       " 3     Spanish    http://en.wikipedia.org/wiki/Fernando_Alonso  \n",
       " 4     Finnish  http://en.wikipedia.org/wiki/Heikki_Kovalainen  )"
      ]
     },
     "execution_count": 2,
     "metadata": {},
     "output_type": "execute_result"
    }
   ],
   "source": [
    "# Let us start by importing the necessary libraries\n",
    "import numpy as np\n",
    "import matplotlib.pyplot as plt\n",
    "import pandas as pd\n",
    "import seaborn as sns\n",
    "import sklearn.model_selection as model_selection\n",
    "\n",
    "# Load the datasets\n",
    "races = pd.read_csv('data/races.csv')\n",
    "results = pd.read_csv('data/results.csv')\n",
    "pit_stops = pd.read_csv('data/pit_stops.csv')\n",
    "drivers = pd.read_csv('data/drivers.csv')\n",
    "\n",
    "# Display the first few rows of the dataset\n",
    "races.head(), results.head(), pit_stops.head(), drivers.head(), "
   ]
  },
  {
   "cell_type": "markdown",
   "metadata": {},
   "source": [
    "## STEP 2 - Cleaning the Data\n",
    "We are only interested in data from seasons 2018-2023 so let us try to filter the dataset"
   ]
  },
  {
   "cell_type": "code",
   "execution_count": 3,
   "metadata": {},
   "outputs": [],
   "source": [
    "# Filtering the dataset for years 2018 to 2023\n",
    "races_2018_2023 = races[(races['year'] >= 2018) & (races['year'] <= 2023)]\n",
    "\n",
    "# Getting the raceId for the years 2018 to 2023\n",
    "raceIds_2018_2023 = races_2018_2023['raceId'].unique()\n",
    "\n",
    "# Filtering pit_stops & results dataset with the raceIds from 2018 to 2023\n",
    "pit_stops_2018_2023 = pit_stops[pit_stops['raceId'].isin(raceIds_2018_2023)]\n",
    "results_2018_2023 = results[results['raceId'].isin(raceIds_2018_2023)]"
   ]
  }
 ],
 "metadata": {
  "kernelspec": {
   "display_name": "base",
   "language": "python",
   "name": "python3"
  },
  "language_info": {
   "codemirror_mode": {
    "name": "ipython",
    "version": 3
   },
   "file_extension": ".py",
   "mimetype": "text/x-python",
   "name": "python",
   "nbconvert_exporter": "python",
   "pygments_lexer": "ipython3",
   "version": "3.11.5"
  }
 },
 "nbformat": 4,
 "nbformat_minor": 2
}
