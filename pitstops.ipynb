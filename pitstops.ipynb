{
 "cells": [
  {
   "cell_type": "markdown",
   "metadata": {},
   "source": [
    "# Pitstops and their Impact on Race Outcome\n",
    "We will be exploring pitstop data from F1 seasons 2018-2023 and looking at how they determine the outcome of the races\n",
    "\n",
    "## STEP 1 - Loading the Data & Libraries"
   ]
  },
  {
   "cell_type": "code",
   "execution_count": 4,
   "metadata": {},
   "outputs": [
    {
     "data": {
      "text/plain": [
       "(   raceId  year  round  circuitId                   name        date  \\\n",
       " 0       1  2009      1          1  Australian Grand Prix  2009-03-29   \n",
       " 1       2  2009      2          2   Malaysian Grand Prix  2009-04-05   \n",
       " 2       3  2009      3         17     Chinese Grand Prix  2009-04-19   \n",
       " 3       4  2009      4          3     Bahrain Grand Prix  2009-04-26   \n",
       " 4       5  2009      5          4     Spanish Grand Prix  2009-05-10   \n",
       " \n",
       "        time                                                url fp1_date  \\\n",
       " 0  06:00:00  http://en.wikipedia.org/wiki/2009_Australian_G...       \\N   \n",
       " 1  09:00:00  http://en.wikipedia.org/wiki/2009_Malaysian_Gr...       \\N   \n",
       " 2  07:00:00  http://en.wikipedia.org/wiki/2009_Chinese_Gran...       \\N   \n",
       " 3  12:00:00  http://en.wikipedia.org/wiki/2009_Bahrain_Gran...       \\N   \n",
       " 4  12:00:00  http://en.wikipedia.org/wiki/2009_Spanish_Gran...       \\N   \n",
       " \n",
       "   fp1_time fp2_date fp2_time fp3_date fp3_time quali_date quali_time  \\\n",
       " 0       \\N       \\N       \\N       \\N       \\N         \\N         \\N   \n",
       " 1       \\N       \\N       \\N       \\N       \\N         \\N         \\N   \n",
       " 2       \\N       \\N       \\N       \\N       \\N         \\N         \\N   \n",
       " 3       \\N       \\N       \\N       \\N       \\N         \\N         \\N   \n",
       " 4       \\N       \\N       \\N       \\N       \\N         \\N         \\N   \n",
       " \n",
       "   sprint_date sprint_time  \n",
       " 0          \\N          \\N  \n",
       " 1          \\N          \\N  \n",
       " 2          \\N          \\N  \n",
       " 3          \\N          \\N  \n",
       " 4          \\N          \\N  ,\n",
       "    resultId  raceId  driverId  constructorId number  grid position  \\\n",
       " 0         1      18         1              1     22     1        1   \n",
       " 1         2      18         2              2      3     5        2   \n",
       " 2         3      18         3              3      7     7        3   \n",
       " 3         4      18         4              4      5    11        4   \n",
       " 4         5      18         5              1     23     3        5   \n",
       " \n",
       "   positionText  positionOrder  points  laps         time milliseconds  \\\n",
       " 0            1              1    10.0    58  1:34:50.616      5690616   \n",
       " 1            2              2     8.0    58       +5.478      5696094   \n",
       " 2            3              3     6.0    58       +8.163      5698779   \n",
       " 3            4              4     5.0    58      +17.181      5707797   \n",
       " 4            5              5     4.0    58      +18.014      5708630   \n",
       " \n",
       "   fastestLap rank fastestLapTime fastestLapSpeed  statusId  \n",
       " 0         39    2       1:27.452         218.300         1  \n",
       " 1         41    3       1:27.739         217.586         1  \n",
       " 2         41    5       1:28.090         216.719         1  \n",
       " 3         58    7       1:28.603         215.464         1  \n",
       " 4         43    1       1:27.418         218.385         1  ,\n",
       "    raceId  driverId  stop  lap      time duration  milliseconds\n",
       " 0     841       153     1    1  17:05:23   26.898         26898\n",
       " 1     841        30     1    1  17:05:52   25.021         25021\n",
       " 2     841        17     1   11  17:20:48   23.426         23426\n",
       " 3     841         4     1   12  17:22:34   23.251         23251\n",
       " 4     841        13     1   13  17:24:10   23.842         23842,\n",
       "    driverId   driverRef number code  forename     surname         dob  \\\n",
       " 0         1    hamilton     44  HAM     Lewis    Hamilton  1985-01-07   \n",
       " 1         2    heidfeld     \\N  HEI      Nick    Heidfeld  1977-05-10   \n",
       " 2         3     rosberg      6  ROS      Nico     Rosberg  1985-06-27   \n",
       " 3         4      alonso     14  ALO  Fernando      Alonso  1981-07-29   \n",
       " 4         5  kovalainen     \\N  KOV    Heikki  Kovalainen  1981-10-19   \n",
       " \n",
       "   nationality                                             url  \n",
       " 0     British     http://en.wikipedia.org/wiki/Lewis_Hamilton  \n",
       " 1      German      http://en.wikipedia.org/wiki/Nick_Heidfeld  \n",
       " 2      German       http://en.wikipedia.org/wiki/Nico_Rosberg  \n",
       " 3     Spanish    http://en.wikipedia.org/wiki/Fernando_Alonso  \n",
       " 4     Finnish  http://en.wikipedia.org/wiki/Heikki_Kovalainen  )"
      ]
     },
     "execution_count": 4,
     "metadata": {},
     "output_type": "execute_result"
    }
   ],
   "source": [
    "# Let us start by importing the necessary libraries\n",
    "import numpy as np\n",
    "import matplotlib.pyplot as plt\n",
    "import pandas as pd\n",
    "import seaborn as sns\n",
    "import sklearn.model_selection as model_selection\n",
    "\n",
    "# Load the datasets\n",
    "races = pd.read_csv('data/races.csv')\n",
    "results = pd.read_csv('data/results.csv')\n",
    "pit_stops = pd.read_csv('data/pit_stops.csv')\n",
    "drivers = pd.read_csv('data/drivers.csv')\n",
    "\n",
    "# Display the first few rows of the dataset\n",
    "races.head(), results.head(), pit_stops.head(), drivers.head(), "
   ]
  },
  {
   "cell_type": "markdown",
   "metadata": {},
   "source": [
    "## STEP 2 - Filtering the Data\n",
    "We are only interested in data from seasons 2018-2023 so let us try to filter the dataset"
   ]
  },
  {
   "cell_type": "code",
   "execution_count": 8,
   "metadata": {},
   "outputs": [
    {
     "data": {
      "text/plain": [
       "((125, 18), (3838, 7), (2300, 18))"
      ]
     },
     "execution_count": 8,
     "metadata": {},
     "output_type": "execute_result"
    }
   ],
   "source": [
    "# Filtering the dataset for years 2018 to 2023\n",
    "races_2018_2023 = races[(races['year'] >= 2018) & (races['year'] <= 2023)]\n",
    "\n",
    "# Getting the raceId for the years 2018 to 2023\n",
    "raceIds_2018_2023 = races_2018_2023['raceId'].unique()\n",
    "\n",
    "# Filtering pit_stops & results dataset with the raceIds from 2018 to 2023\n",
    "pit_stops_2018_2023 = pit_stops[pit_stops['raceId'].isin(raceIds_2018_2023)]\n",
    "results_2018_2023 = results[results['raceId'].isin(raceIds_2018_2023)]\n",
    "\n",
    "# Display the shape of the filtered datasets\n",
    "races_2018_2023.shape, pit_stops_2018_2023.shape, results_2018_2023.shape"
   ]
  },
  {
   "cell_type": "markdown",
   "metadata": {},
   "source": [
    "## STEP 3 - Cleaning the Datasets\n",
    "Now that we have the filtered data we can carry on with cleaning the data by handling missing values and outliers"
   ]
  },
  {
   "cell_type": "code",
   "execution_count": 9,
   "metadata": {},
   "outputs": [
    {
     "data": {
      "text/plain": [
       "(raceId         0\n",
       " year           0\n",
       " round          0\n",
       " circuitId      0\n",
       " name           0\n",
       " date           0\n",
       " time           0\n",
       " url            0\n",
       " fp1_date       0\n",
       " fp1_time       0\n",
       " fp2_date       0\n",
       " fp2_time       0\n",
       " fp3_date       0\n",
       " fp3_time       0\n",
       " quali_date     0\n",
       " quali_time     0\n",
       " sprint_date    0\n",
       " sprint_time    0\n",
       " dtype: int64,\n",
       " resultId           0\n",
       " raceId             0\n",
       " driverId           0\n",
       " constructorId      0\n",
       " number             0\n",
       " grid               0\n",
       " position           0\n",
       " positionText       0\n",
       " positionOrder      0\n",
       " points             0\n",
       " laps               0\n",
       " time               0\n",
       " milliseconds       0\n",
       " fastestLap         0\n",
       " rank               0\n",
       " fastestLapTime     0\n",
       " fastestLapSpeed    0\n",
       " statusId           0\n",
       " dtype: int64,\n",
       " raceId          0\n",
       " driverId        0\n",
       " stop            0\n",
       " lap             0\n",
       " time            0\n",
       " duration        0\n",
       " milliseconds    0\n",
       " dtype: int64)"
      ]
     },
     "execution_count": 9,
     "metadata": {},
     "output_type": "execute_result"
    }
   ],
   "source": [
    "# Check for missing values in the filtered datasets\n",
    "missing_values_races = races_2018_2023.isnull().sum()\n",
    "missing_values_results = results_2018_2023.isnull().sum()\n",
    "missing_values_pit_stops = pit_stops_2018_2023.isnull().sum()\n",
    "\n",
    "missing_values_races, missing_values_results, missing_values_pit_stops"
   ]
  },
  {
   "cell_type": "markdown",
   "metadata": {},
   "source": [
    "There are no missing values. Let us look for outliers by checking the descriptive statistics in each dataset"
   ]
  },
  {
   "cell_type": "code",
   "execution_count": 10,
   "metadata": {},
   "outputs": [
    {
     "data": {
      "text/plain": [
       "(            raceId         year       round   circuitId\n",
       " count   125.000000   125.000000  125.000000  125.000000\n",
       " mean   1053.512000  2020.552000   10.992000   29.960000\n",
       " std      38.712884     1.738817    6.149346   27.278256\n",
       " min     989.000000  2018.000000    1.000000    1.000000\n",
       " 25%    1020.000000  2019.000000    6.000000    9.000000\n",
       " 50%    1054.000000  2021.000000   11.000000   18.000000\n",
       " 75%    1086.000000  2022.000000   16.000000   69.000000\n",
       " max    1120.000000  2023.000000   22.000000   80.000000,\n",
       "            resultId       raceId     driverId  constructorId         grid  \\\n",
       " count   2300.000000  2300.000000  2300.000000    2300.000000  2300.000000   \n",
       " mean   24934.737391  1048.121739   677.193478      77.624348    10.119130   \n",
       " std      665.141029    35.392326   322.250443      87.089409     5.825181   \n",
       " min    23782.000000   989.000000     1.000000       1.000000     0.000000   \n",
       " 25%    24360.750000  1017.000000   815.000000       4.000000     5.000000   \n",
       " 50%    24935.500000  1046.000000   832.000000      10.000000    10.000000   \n",
       " 75%    25510.250000  1079.000000   844.000000     131.000000    15.000000   \n",
       " max    26085.000000  1110.000000   858.000000     214.000000    20.000000   \n",
       " \n",
       "        positionOrder       points         laps     statusId  \n",
       " count    2300.000000  2300.000000  2300.000000  2300.000000  \n",
       " mean       10.500000     5.065000    54.395217     9.531304  \n",
       " std         5.767535     7.218911    17.607505    21.815498  \n",
       " min         1.000000     0.000000     0.000000     1.000000  \n",
       " 25%         5.750000     0.000000    51.000000     1.000000  \n",
       " 50%        10.500000     0.250000    56.000000     1.000000  \n",
       " 75%        15.250000     9.000000    67.000000    11.000000  \n",
       " max        20.000000    26.000000    87.000000   141.000000  ,\n",
       "             raceId     driverId         stop          lap  milliseconds\n",
       " count  3838.000000  3838.000000  3838.000000  3838.000000  3.838000e+03\n",
       " mean   1052.212611   677.959093     1.634966    26.124023  1.203078e+05\n",
       " std      34.592413   322.770085     0.870204    15.595862  3.858480e+05\n",
       " min     989.000000     1.000000     1.000000     1.000000  1.397300e+04\n",
       " 25%    1023.000000   815.000000     1.000000    14.000000  2.211850e+04\n",
       " 50%    1054.000000   832.000000     1.000000    25.000000  2.391700e+04\n",
       " 75%    1082.000000   845.000000     2.000000    37.000000  2.853875e+04\n",
       " max    1110.000000   858.000000     6.000000    78.000000  3.069017e+06)"
      ]
     },
     "execution_count": 10,
     "metadata": {},
     "output_type": "execute_result"
    }
   ],
   "source": [
    "# Descriptive statistics of the filtered datasets\n",
    "desc_stats_races = races_2018_2023.describe()\n",
    "desc_stats_results = results_2018_2023.describe()\n",
    "desc_stats_pit_stops = pit_stops_2018_2023.describe()\n",
    "\n",
    "desc_stats_races, desc_stats_results, desc_stats_pit_stops"
   ]
  }
 ],
 "metadata": {
  "kernelspec": {
   "display_name": "base",
   "language": "python",
   "name": "python3"
  },
  "language_info": {
   "codemirror_mode": {
    "name": "ipython",
    "version": 3
   },
   "file_extension": ".py",
   "mimetype": "text/x-python",
   "name": "python",
   "nbconvert_exporter": "python",
   "pygments_lexer": "ipython3",
   "version": "3.11.5"
  }
 },
 "nbformat": 4,
 "nbformat_minor": 2
}
